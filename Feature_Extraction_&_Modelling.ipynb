{
  "metadata": {
    "kernelspec": {
      "language": "python",
      "display_name": "Python 3",
      "name": "python3"
    },
    "language_info": {
      "name": "python",
      "version": "3.7.6",
      "mimetype": "text/x-python",
      "codemirror_mode": {
        "name": "ipython",
        "version": 3
      },
      "pygments_lexer": "ipython3",
      "nbconvert_exporter": "python",
      "file_extension": ".py"
    },
    "kaggle": {
      "accelerator": "gpu",
      "dataSources": [
        {
          "sourceId": 267422,
          "sourceType": "datasetVersion",
          "datasetId": 110374
        },
        {
          "sourceId": 43294013,
          "sourceType": "kernelVersion"
        },
        {
          "sourceId": 43354304,
          "sourceType": "kernelVersion"
        }
      ],
      "dockerImageVersionId": 30015,
      "isInternetEnabled": true,
      "language": "python",
      "sourceType": "notebook",
      "isGpuEnabled": true
    },
    "colab": {
      "provenance": []
    }
  },
  "nbformat_minor": 0,
  "nbformat": 4,
  "cells": [
    {
      "cell_type": "code",
      "source": [
        "import numpy as np # linear algebra\n",
        "import pandas as pd # data processing, CSV file I/O (e.g. pd.read_csv)\n",
        "import tensorflow as tf\n",
        "from tensorflow import keras\n",
        "import matplotlib.pyplot as plt\n",
        "import seaborn as sns\n",
        "\n",
        "import librosa as lb\n",
        "import librosa.display as lbd\n",
        "import os\n"
      ],
      "metadata": {
        "_uuid": "8f2839f25d086af736a60e9eeb907d3b93b6e0e5",
        "_cell_guid": "b1076dfc-b9ad-4769-8c92-a6c4dae69d19",
        "execution": {
          "iopub.status.busy": "2024-07-02T17:54:47.549941Z",
          "iopub.execute_input": "2024-07-02T17:54:47.550331Z",
          "iopub.status.idle": "2024-07-02T17:54:47.556548Z",
          "shell.execute_reply.started": "2024-07-02T17:54:47.550277Z",
          "shell.execute_reply": "2024-07-02T17:54:47.555660Z"
        },
        "trusted": true,
        "id": "TI4-iSzlseM5"
      },
      "execution_count": null,
      "outputs": []
    },
    {
      "cell_type": "code",
      "source": [
        "train=pd.read_csv('../input/part-2-handel-imbalance-creating-spectrogram/train.csv')\n",
        "val=pd.read_csv('../input/part-2-handel-imbalance-creating-spectrogram/val.csv')\n",
        "train.head()"
      ],
      "metadata": {
        "_uuid": "d629ff2d2480ee46fbb7e2d37f6b5fab8052498a",
        "_cell_guid": "79c7e3d0-c299-4dcb-8224-4455121ee9b0",
        "execution": {
          "iopub.status.busy": "2024-07-02T17:54:47.558877Z",
          "iopub.execute_input": "2024-07-02T17:54:47.559265Z",
          "iopub.status.idle": "2024-07-02T17:54:47.592544Z",
          "shell.execute_reply.started": "2024-07-02T17:54:47.559224Z",
          "shell.execute_reply": "2024-07-02T17:54:47.591645Z"
        },
        "trusted": true,
        "id": "fT3TjblZseM7",
        "outputId": "10e94985-01b7-4cf2-fc65-b7606a2dbd4e"
      },
      "execution_count": null,
      "outputs": [
        {
          "execution_count": 9,
          "output_type": "execute_result",
          "data": {
            "text/plain": "   Unnamed: 0  pid                      filename  disease\n0        1481  176  176_1b3_Ll_mc_AKGC417L_3.wav     COPD\n1        6197  144  144_1b1_Al_sc_Meditron_9.wav  Healthy\n2         499  193  193_1b2_Ll_mc_AKGC417L_0.wav     COPD\n3        6559  208  208_1b1_Ll_sc_Meditron_8.wav  Healthy\n4        1238  154  154_3b3_Al_mc_AKGC417L_3.wav     COPD",
            "text/html": "<div>\n<style scoped>\n    .dataframe tbody tr th:only-of-type {\n        vertical-align: middle;\n    }\n\n    .dataframe tbody tr th {\n        vertical-align: top;\n    }\n\n    .dataframe thead th {\n        text-align: right;\n    }\n</style>\n<table border=\"1\" class=\"dataframe\">\n  <thead>\n    <tr style=\"text-align: right;\">\n      <th></th>\n      <th>Unnamed: 0</th>\n      <th>pid</th>\n      <th>filename</th>\n      <th>disease</th>\n    </tr>\n  </thead>\n  <tbody>\n    <tr>\n      <th>0</th>\n      <td>1481</td>\n      <td>176</td>\n      <td>176_1b3_Ll_mc_AKGC417L_3.wav</td>\n      <td>COPD</td>\n    </tr>\n    <tr>\n      <th>1</th>\n      <td>6197</td>\n      <td>144</td>\n      <td>144_1b1_Al_sc_Meditron_9.wav</td>\n      <td>Healthy</td>\n    </tr>\n    <tr>\n      <th>2</th>\n      <td>499</td>\n      <td>193</td>\n      <td>193_1b2_Ll_mc_AKGC417L_0.wav</td>\n      <td>COPD</td>\n    </tr>\n    <tr>\n      <th>3</th>\n      <td>6559</td>\n      <td>208</td>\n      <td>208_1b1_Ll_sc_Meditron_8.wav</td>\n      <td>Healthy</td>\n    </tr>\n    <tr>\n      <th>4</th>\n      <td>1238</td>\n      <td>154</td>\n      <td>154_3b3_Al_mc_AKGC417L_3.wav</td>\n      <td>COPD</td>\n    </tr>\n  </tbody>\n</table>\n</div>"
          },
          "metadata": {}
        }
      ]
    },
    {
      "cell_type": "code",
      "source": [
        "ytrain=train.disease\n",
        "yval=val.disease\n",
        "yval"
      ],
      "metadata": {
        "execution": {
          "iopub.status.busy": "2024-07-02T17:54:47.593919Z",
          "iopub.execute_input": "2024-07-02T17:54:47.594206Z",
          "iopub.status.idle": "2024-07-02T17:54:47.601281Z",
          "shell.execute_reply.started": "2024-07-02T17:54:47.594178Z",
          "shell.execute_reply": "2024-07-02T17:54:47.600443Z"
        },
        "trusted": true,
        "id": "wHvsHV3BseM8",
        "outputId": "5ec89068-fbc1-4333-c0e3-3f727c0302f0"
      },
      "execution_count": null,
      "outputs": [
        {
          "execution_count": 10,
          "output_type": "execute_result",
          "data": {
            "text/plain": "0       COPD\n1       COPD\n2       COPD\n3       COPD\n4       COPD\n        ... \n1720    COPD\n1721    COPD\n1722    COPD\n1723    COPD\n1724    COPD\nName: disease, Length: 1725, dtype: object"
          },
          "metadata": {}
        }
      ]
    },
    {
      "cell_type": "markdown",
      "source": [
        "* As our class labels are of **dtype: object** we must first convert them to **encoded values** or intergers"
      ],
      "metadata": {
        "id": "EOAGMPDhseM8"
      }
    },
    {
      "cell_type": "code",
      "source": [
        "from sklearn.preprocessing import LabelEncoder\n",
        "le=LabelEncoder()\n",
        "ytrain=le.fit_transform(ytrain)\n",
        "yval=le.transform(yval)"
      ],
      "metadata": {
        "execution": {
          "iopub.status.busy": "2024-07-02T17:54:47.602799Z",
          "iopub.execute_input": "2024-07-02T17:54:47.603210Z",
          "iopub.status.idle": "2024-07-02T17:54:47.612820Z",
          "shell.execute_reply.started": "2024-07-02T17:54:47.603163Z",
          "shell.execute_reply": "2024-07-02T17:54:47.612107Z"
        },
        "trusted": true,
        "id": "P5mooWotseM9"
      },
      "execution_count": null,
      "outputs": []
    },
    {
      "cell_type": "markdown",
      "source": [
        "# Feature Extraction\n",
        "\n",
        "> I am going to use Librosa's feature extraction methods here\n",
        "\n",
        "> Note:- i first tried to extract features **1-by-1** and then test them, to see how they perform but most of then were giving **good accuracy** so i finally decided to use all of them\n",
        "\n"
      ],
      "metadata": {
        "id": "mw6yr7C9seM9"
      }
    },
    {
      "cell_type": "code",
      "source": [
        "def getFeatures(path):\n",
        "    soundArr,sample_rate=lb.load(path)\n",
        "    mfcc=lb.feature.mfcc(y=soundArr,sr=sample_rate)\n",
        "    cstft=lb.feature.chroma_stft(y=soundArr,sr=sample_rate)\n",
        "    mSpec=lb.feature.melspectrogram(y=soundArr,sr=sample_rate)\n",
        "\n",
        "    return mfcc,cstft,mSpec"
      ],
      "metadata": {
        "execution": {
          "iopub.status.busy": "2024-07-02T17:54:47.616214Z",
          "iopub.execute_input": "2024-07-02T17:54:47.616508Z",
          "iopub.status.idle": "2024-07-02T17:54:47.623485Z",
          "shell.execute_reply.started": "2024-07-02T17:54:47.616481Z",
          "shell.execute_reply": "2024-07-02T17:54:47.622762Z"
        },
        "trusted": true,
        "id": "JTFvLQhKseM9"
      },
      "execution_count": null,
      "outputs": []
    },
    {
      "cell_type": "markdown",
      "source": [
        "> In These functions i m iterating over **train and val dataset**, and using **filenames** to extract features and then converting them to **numpy arrays**\n"
      ],
      "metadata": {
        "id": "dKUWGYGKseM9"
      }
    },
    {
      "cell_type": "code",
      "source": [
        "root='../input/part-1-preprocessing/processed_audio_files/'\n",
        "mfcc,cstft,mSpec=[],[],[]\n",
        "\n",
        "for idx,row in val.iterrows():\n",
        "    path=root + row['filename']\n",
        "    a,b,c=getFeatures(path)\n",
        "    mfcc.append(a)\n",
        "    cstft.append(b)\n",
        "    mSpec.append(c)\n",
        "\n",
        "mfcc_val=np.array(mfcc)\n",
        "cstft_val=np.array(cstft)\n",
        "mSpec_val=np.array(mSpec)"
      ],
      "metadata": {
        "execution": {
          "iopub.status.busy": "2024-07-02T17:54:47.625226Z",
          "iopub.execute_input": "2024-07-02T17:54:47.625535Z",
          "iopub.status.idle": "2024-07-02T17:55:57.313430Z",
          "shell.execute_reply.started": "2024-07-02T17:54:47.625506Z",
          "shell.execute_reply": "2024-07-02T17:55:57.312532Z"
        },
        "trusted": true,
        "id": "yWwrkXptseM9",
        "outputId": "7b03cb50-44ef-49c2-96a8-1f542c357243"
      },
      "execution_count": null,
      "outputs": [
        {
          "name": "stderr",
          "text": "/opt/conda/lib/python3.7/site-packages/librosa/core/pitch.py:153: UserWarning: Trying to estimate tuning from empty frequency set.\n  warnings.warn(\"Trying to estimate tuning from empty frequency set.\")\n",
          "output_type": "stream"
        }
      ]
    },
    {
      "cell_type": "markdown",
      "source": [
        "The shape of features returned by the above function **(20, 259) (12, 259) (128, 259)** we need this for defining **input shape** of our model."
      ],
      "metadata": {
        "id": "4BE2Znl4seM-"
      }
    },
    {
      "cell_type": "code",
      "source": [
        "root='../input/part-1-preprocessing/processed_audio_files/'\n",
        "mfcc,cstft,mSpec=[],[],[]\n",
        "\n",
        "for idx,row in train.iterrows():\n",
        "    path=root + row['filename']\n",
        "    a,b,c=getFeatures(path)\n",
        "    mfcc.append(a)\n",
        "    cstft.append(b)\n",
        "    mSpec.append(c)\n",
        "#     tone.append(d)\n",
        "#     specCen.append(e)\n",
        "\n",
        "mfcc_train=np.array(mfcc)\n",
        "cstft_train=np.array(cstft)\n",
        "mSpec_train=np.array(mSpec)"
      ],
      "metadata": {
        "execution": {
          "iopub.status.busy": "2024-07-02T18:06:25.495871Z",
          "iopub.execute_input": "2024-07-02T18:06:25.496244Z",
          "iopub.status.idle": "2024-07-02T18:09:54.764901Z",
          "shell.execute_reply.started": "2024-07-02T18:06:25.496215Z",
          "shell.execute_reply": "2024-07-02T18:09:54.764074Z"
        },
        "trusted": true,
        "id": "zTfYjLLOseM-"
      },
      "execution_count": null,
      "outputs": []
    },
    {
      "cell_type": "markdown",
      "source": [
        "# Testing Features\n",
        "\n",
        "> Lets create model using Keras **Functional API** to check how the features perform.\n",
        "\n"
      ],
      "metadata": {
        "id": "xiek0duKseM-"
      }
    },
    {
      "cell_type": "code",
      "source": [
        "my_callbacks = [\n",
        "    tf.keras.callbacks.EarlyStopping(patience=5),\n",
        "    tf.keras.callbacks.ReduceLROnPlateau(monitor='val_loss', factor=0.1,\n",
        "                              patience=3, min_lr=0.00001,mode='min')\n",
        "]"
      ],
      "metadata": {
        "execution": {
          "iopub.status.busy": "2024-07-02T18:10:30.810407Z",
          "iopub.execute_input": "2024-07-02T18:10:30.810836Z",
          "iopub.status.idle": "2024-07-02T18:10:30.816683Z",
          "shell.execute_reply.started": "2024-07-02T18:10:30.810789Z",
          "shell.execute_reply": "2024-07-02T18:10:30.815846Z"
        },
        "trusted": true,
        "id": "zOXU7jCUseM-"
      },
      "execution_count": null,
      "outputs": []
    },
    {
      "cell_type": "markdown",
      "source": [
        "* Here i m creating **three** different **CNN** and then Combining them to a **Dense Network**."
      ],
      "metadata": {
        "id": "0k4_YgnwseM-"
      }
    },
    {
      "cell_type": "code",
      "source": [
        "mfcc_input=keras.layers.Input(shape=(20,259,1),name=\"mfccInput\")\n",
        "x=keras.layers.Conv2D(32,5,strides=(1,3),padding='same')(mfcc_input)\n",
        "x=keras.layers.BatchNormalization()(x)\n",
        "x=keras.layers.Activation(keras.activations.relu)(x)\n",
        "x=keras.layers.MaxPooling2D(pool_size=2,padding='valid')(x)\n",
        "\n",
        "x=keras.layers.Conv2D(64,3,strides=(1,2),padding='same')(x)\n",
        "x=keras.layers.BatchNormalization()(x)\n",
        "x=keras.layers.Activation(keras.activations.relu)(x)\n",
        "x=keras.layers.MaxPooling2D(pool_size=2,padding='valid')(x)\n",
        "\n",
        "x=keras.layers.Conv2D(96,2,padding='same')(x)\n",
        "x=keras.layers.BatchNormalization()(x)\n",
        "x=keras.layers.Activation(keras.activations.relu)(x)\n",
        "x=keras.layers.MaxPooling2D(pool_size=2,padding='valid')(x)\n",
        "\n",
        "x=keras.layers.Conv2D(128,2,padding='same')(x)\n",
        "x=keras.layers.BatchNormalization()(x)\n",
        "x=keras.layers.Activation(keras.activations.relu)(x)\n",
        "mfcc_output=keras.layers.GlobalMaxPooling2D()(x)\n",
        "\n",
        "mfcc_model=keras.Model(mfcc_input, mfcc_output, name=\"mfccModel\")"
      ],
      "metadata": {
        "execution": {
          "iopub.status.busy": "2024-07-02T18:10:32.960164Z",
          "iopub.execute_input": "2024-07-02T18:10:32.960533Z",
          "iopub.status.idle": "2024-07-02T18:10:33.118809Z",
          "shell.execute_reply.started": "2024-07-02T18:10:32.960496Z",
          "shell.execute_reply": "2024-07-02T18:10:33.117982Z"
        },
        "trusted": true,
        "id": "4cQ-SloRseM-"
      },
      "execution_count": null,
      "outputs": []
    },
    {
      "cell_type": "code",
      "source": [
        "mfcc_model.summary()"
      ],
      "metadata": {
        "execution": {
          "iopub.status.busy": "2024-07-02T18:10:34.180236Z",
          "iopub.execute_input": "2024-07-02T18:10:34.180590Z",
          "iopub.status.idle": "2024-07-02T18:10:34.191617Z",
          "shell.execute_reply.started": "2024-07-02T18:10:34.180558Z",
          "shell.execute_reply": "2024-07-02T18:10:34.190677Z"
        },
        "trusted": true,
        "id": "oruoXwGDseM_",
        "outputId": "ceefeb27-a9ed-4124-cd28-a3bf7a8c6043"
      },
      "execution_count": null,
      "outputs": [
        {
          "name": "stdout",
          "text": "Model: \"mfccModel\"\n_________________________________________________________________\nLayer (type)                 Output Shape              Param #   \n=================================================================\nmfccInput (InputLayer)       [(None, 20, 259, 1)]      0         \n_________________________________________________________________\nconv2d_11 (Conv2D)           (None, 20, 87, 32)        832       \n_________________________________________________________________\nbatch_normalization_11 (Batc (None, 20, 87, 32)        128       \n_________________________________________________________________\nactivation_11 (Activation)   (None, 20, 87, 32)        0         \n_________________________________________________________________\nmax_pooling2d_8 (MaxPooling2 (None, 10, 43, 32)        0         \n_________________________________________________________________\nconv2d_12 (Conv2D)           (None, 10, 22, 64)        18496     \n_________________________________________________________________\nbatch_normalization_12 (Batc (None, 10, 22, 64)        256       \n_________________________________________________________________\nactivation_12 (Activation)   (None, 10, 22, 64)        0         \n_________________________________________________________________\nmax_pooling2d_9 (MaxPooling2 (None, 5, 11, 64)         0         \n_________________________________________________________________\nconv2d_13 (Conv2D)           (None, 5, 11, 96)         24672     \n_________________________________________________________________\nbatch_normalization_13 (Batc (None, 5, 11, 96)         384       \n_________________________________________________________________\nactivation_13 (Activation)   (None, 5, 11, 96)         0         \n_________________________________________________________________\nmax_pooling2d_10 (MaxPooling (None, 2, 5, 96)          0         \n_________________________________________________________________\nconv2d_14 (Conv2D)           (None, 2, 5, 128)         49280     \n_________________________________________________________________\nbatch_normalization_14 (Batc (None, 2, 5, 128)         512       \n_________________________________________________________________\nactivation_14 (Activation)   (None, 2, 5, 128)         0         \n_________________________________________________________________\nglobal_max_pooling2d_3 (Glob (None, 128)               0         \n=================================================================\nTotal params: 94,560\nTrainable params: 93,920\nNon-trainable params: 640\n_________________________________________________________________\n",
          "output_type": "stream"
        }
      ]
    },
    {
      "cell_type": "code",
      "source": [
        "croma_input=keras.layers.Input(shape=(12,259,1),name=\"cromaInput\")\n",
        "x=keras.layers.Conv2D(32,5,strides=(1,3),padding='same')(croma_input)\n",
        "x=keras.layers.BatchNormalization()(x)\n",
        "x=keras.layers.Activation(keras.activations.relu)(x)\n",
        "x=keras.layers.MaxPooling2D(pool_size=2,padding='valid')(x)\n",
        "\n",
        "x=keras.layers.Conv2D(64,3,strides=(1,2),padding='same')(x)\n",
        "x=keras.layers.BatchNormalization()(x)\n",
        "x=keras.layers.Activation(keras.activations.relu)(x)\n",
        "x=keras.layers.MaxPooling2D(pool_size=2,padding='valid')(x)\n",
        "\n",
        "x=keras.layers.Conv2D(128,2,padding='same')(x)\n",
        "x=keras.layers.BatchNormalization()(x)\n",
        "x=keras.layers.Activation(keras.activations.relu)(x)\n",
        "croma_output=keras.layers.GlobalMaxPooling2D()(x)\n",
        "\n",
        "croma_model=keras.Model(croma_input, croma_output, name=\"cromaModel\")"
      ],
      "metadata": {
        "execution": {
          "iopub.status.busy": "2024-07-02T18:10:34.863757Z",
          "iopub.execute_input": "2024-07-02T18:10:34.864133Z",
          "iopub.status.idle": "2024-07-02T18:10:34.978628Z",
          "shell.execute_reply.started": "2024-07-02T18:10:34.864095Z",
          "shell.execute_reply": "2024-07-02T18:10:34.977728Z"
        },
        "trusted": true,
        "id": "F2dBVVFLseM_"
      },
      "execution_count": null,
      "outputs": []
    },
    {
      "cell_type": "code",
      "source": [
        "croma_model.summary()"
      ],
      "metadata": {
        "execution": {
          "iopub.status.busy": "2024-07-02T18:10:35.340932Z",
          "iopub.execute_input": "2024-07-02T18:10:35.341298Z",
          "iopub.status.idle": "2024-07-02T18:10:35.349859Z",
          "shell.execute_reply.started": "2024-07-02T18:10:35.341263Z",
          "shell.execute_reply": "2024-07-02T18:10:35.349024Z"
        },
        "trusted": true,
        "id": "dE0hXQVVseM_",
        "outputId": "d972984a-49cf-4cc1-c808-0933afcd9fc3"
      },
      "execution_count": null,
      "outputs": [
        {
          "name": "stdout",
          "text": "Model: \"cromaModel\"\n_________________________________________________________________\nLayer (type)                 Output Shape              Param #   \n=================================================================\ncromaInput (InputLayer)      [(None, 12, 259, 1)]      0         \n_________________________________________________________________\nconv2d_15 (Conv2D)           (None, 12, 87, 32)        832       \n_________________________________________________________________\nbatch_normalization_15 (Batc (None, 12, 87, 32)        128       \n_________________________________________________________________\nactivation_15 (Activation)   (None, 12, 87, 32)        0         \n_________________________________________________________________\nmax_pooling2d_11 (MaxPooling (None, 6, 43, 32)         0         \n_________________________________________________________________\nconv2d_16 (Conv2D)           (None, 6, 22, 64)         18496     \n_________________________________________________________________\nbatch_normalization_16 (Batc (None, 6, 22, 64)         256       \n_________________________________________________________________\nactivation_16 (Activation)   (None, 6, 22, 64)         0         \n_________________________________________________________________\nmax_pooling2d_12 (MaxPooling (None, 3, 11, 64)         0         \n_________________________________________________________________\nconv2d_17 (Conv2D)           (None, 3, 11, 128)        32896     \n_________________________________________________________________\nbatch_normalization_17 (Batc (None, 3, 11, 128)        512       \n_________________________________________________________________\nactivation_17 (Activation)   (None, 3, 11, 128)        0         \n_________________________________________________________________\nglobal_max_pooling2d_4 (Glob (None, 128)               0         \n=================================================================\nTotal params: 53,120\nTrainable params: 52,672\nNon-trainable params: 448\n_________________________________________________________________\n",
          "output_type": "stream"
        }
      ]
    },
    {
      "cell_type": "code",
      "source": [
        "mSpec_input=keras.layers.Input(shape=(128,259,1),name=\"mSpecInput\")\n",
        "x=keras.layers.Conv2D(32,5,strides=(2,3),padding='same')(mSpec_input)\n",
        "x=keras.layers.BatchNormalization()(x)\n",
        "x=keras.layers.Activation(keras.activations.relu)(x)\n",
        "x=keras.layers.MaxPooling2D(pool_size=2,padding='valid')(x)\n",
        "\n",
        "x=keras.layers.Conv2D(64,3,strides=(2,2),padding='same')(x)\n",
        "x=keras.layers.BatchNormalization()(x)\n",
        "x=keras.layers.Activation(keras.activations.relu)(x)\n",
        "x=keras.layers.MaxPooling2D(pool_size=2,padding='valid')(x)\n",
        "\n",
        "x=keras.layers.Conv2D(96,2,padding='same')(x)\n",
        "x=keras.layers.BatchNormalization()(x)\n",
        "x=keras.layers.Activation(keras.activations.relu)(x)\n",
        "x=keras.layers.MaxPooling2D(pool_size=2,padding='valid')(x)\n",
        "\n",
        "x=keras.layers.Conv2D(128,2,padding='same')(x)\n",
        "x=keras.layers.BatchNormalization()(x)\n",
        "x=keras.layers.Activation(keras.activations.relu)(x)\n",
        "mSpec_output=keras.layers.GlobalMaxPooling2D()(x)\n",
        "\n",
        "mSpec_model=keras.Model(mSpec_input, mSpec_output, name=\"mSpecModel\")"
      ],
      "metadata": {
        "execution": {
          "iopub.status.busy": "2024-07-02T18:10:35.694210Z",
          "iopub.execute_input": "2024-07-02T18:10:35.694570Z",
          "iopub.status.idle": "2024-07-02T18:10:35.848621Z",
          "shell.execute_reply.started": "2024-07-02T18:10:35.694537Z",
          "shell.execute_reply": "2024-07-02T18:10:35.847865Z"
        },
        "trusted": true,
        "id": "Nm6iq0dxseM_"
      },
      "execution_count": null,
      "outputs": []
    },
    {
      "cell_type": "code",
      "source": [
        "mSpec_model.summary()"
      ],
      "metadata": {
        "execution": {
          "iopub.status.busy": "2024-07-02T18:10:35.956462Z",
          "iopub.execute_input": "2024-07-02T18:10:35.956852Z",
          "iopub.status.idle": "2024-07-02T18:10:35.967299Z",
          "shell.execute_reply.started": "2024-07-02T18:10:35.956817Z",
          "shell.execute_reply": "2024-07-02T18:10:35.966428Z"
        },
        "trusted": true,
        "id": "6WpnsAb0seM_",
        "outputId": "aa7aab99-f5c7-4abf-872c-a194038583dc"
      },
      "execution_count": null,
      "outputs": [
        {
          "name": "stdout",
          "text": "Model: \"mSpecModel\"\n_________________________________________________________________\nLayer (type)                 Output Shape              Param #   \n=================================================================\nmSpecInput (InputLayer)      [(None, 128, 259, 1)]     0         \n_________________________________________________________________\nconv2d_18 (Conv2D)           (None, 64, 87, 32)        832       \n_________________________________________________________________\nbatch_normalization_18 (Batc (None, 64, 87, 32)        128       \n_________________________________________________________________\nactivation_18 (Activation)   (None, 64, 87, 32)        0         \n_________________________________________________________________\nmax_pooling2d_13 (MaxPooling (None, 32, 43, 32)        0         \n_________________________________________________________________\nconv2d_19 (Conv2D)           (None, 16, 22, 64)        18496     \n_________________________________________________________________\nbatch_normalization_19 (Batc (None, 16, 22, 64)        256       \n_________________________________________________________________\nactivation_19 (Activation)   (None, 16, 22, 64)        0         \n_________________________________________________________________\nmax_pooling2d_14 (MaxPooling (None, 8, 11, 64)         0         \n_________________________________________________________________\nconv2d_20 (Conv2D)           (None, 8, 11, 96)         24672     \n_________________________________________________________________\nbatch_normalization_20 (Batc (None, 8, 11, 96)         384       \n_________________________________________________________________\nactivation_20 (Activation)   (None, 8, 11, 96)         0         \n_________________________________________________________________\nmax_pooling2d_15 (MaxPooling (None, 4, 5, 96)          0         \n_________________________________________________________________\nconv2d_21 (Conv2D)           (None, 4, 5, 128)         49280     \n_________________________________________________________________\nbatch_normalization_21 (Batc (None, 4, 5, 128)         512       \n_________________________________________________________________\nactivation_21 (Activation)   (None, 4, 5, 128)         0         \n_________________________________________________________________\nglobal_max_pooling2d_5 (Glob (None, 128)               0         \n=================================================================\nTotal params: 94,560\nTrainable params: 93,920\nNon-trainable params: 640\n_________________________________________________________________\n",
          "output_type": "stream"
        }
      ]
    },
    {
      "cell_type": "code",
      "source": [
        "input_mfcc=keras.layers.Input(shape=(20,259,1),name=\"mfcc\")\n",
        "mfcc=mfcc_model(input_mfcc)\n",
        "\n",
        "input_croma=keras.layers.Input(shape=(12,259,1),name=\"croma\")\n",
        "croma=croma_model(input_croma)\n",
        "\n",
        "input_mSpec=keras.layers.Input(shape=(128,259,1),name=\"mspec\")\n",
        "mSpec=mSpec_model(input_mSpec)\n",
        "\n",
        "\n",
        "concat=keras.layers.concatenate([mfcc,croma,mSpec])\n",
        "hidden=keras.layers.Dropout(0.2)(concat)\n",
        "hidden=keras.layers.Dense(50,activation='relu')(concat)\n",
        "hidden=keras.layers.Dropout(0.3)(hidden)\n",
        "hidden=keras.layers.Dense(25,activation='relu')(hidden)\n",
        "hidden=keras.layers.Dropout(0.3)(hidden)\n",
        "output=keras.layers.Dense(8,activation='softmax')(hidden)\n",
        "\n",
        "net=keras.Model([input_mfcc,input_croma,input_mSpec], output, name=\"Net\")"
      ],
      "metadata": {
        "execution": {
          "iopub.status.busy": "2024-07-02T18:10:36.225499Z",
          "iopub.execute_input": "2024-07-02T18:10:36.225872Z",
          "iopub.status.idle": "2024-07-02T18:10:36.717207Z",
          "shell.execute_reply.started": "2024-07-02T18:10:36.225840Z",
          "shell.execute_reply": "2024-07-02T18:10:36.716441Z"
        },
        "trusted": true,
        "id": "BAapTw2dseNA"
      },
      "execution_count": null,
      "outputs": []
    },
    {
      "cell_type": "code",
      "source": [
        "net.summary()"
      ],
      "metadata": {
        "execution": {
          "iopub.status.busy": "2024-07-02T18:10:36.718812Z",
          "iopub.execute_input": "2024-07-02T18:10:36.719077Z",
          "iopub.status.idle": "2024-07-02T18:10:36.733215Z",
          "shell.execute_reply.started": "2024-07-02T18:10:36.719051Z",
          "shell.execute_reply": "2024-07-02T18:10:36.732261Z"
        },
        "trusted": true,
        "id": "tcuD95u6seNA",
        "outputId": "81cbaa8b-44c4-4566-cc62-2211bfbc440a"
      },
      "execution_count": null,
      "outputs": [
        {
          "name": "stdout",
          "text": "Model: \"Net\"\n__________________________________________________________________________________________________\nLayer (type)                    Output Shape         Param #     Connected to                     \n==================================================================================================\nmfcc (InputLayer)               [(None, 20, 259, 1)] 0                                            \n__________________________________________________________________________________________________\ncroma (InputLayer)              [(None, 12, 259, 1)] 0                                            \n__________________________________________________________________________________________________\nmspec (InputLayer)              [(None, 128, 259, 1) 0                                            \n__________________________________________________________________________________________________\nmfccModel (Functional)          (None, 128)          94560       mfcc[0][0]                       \n__________________________________________________________________________________________________\ncromaModel (Functional)         (None, 128)          53120       croma[0][0]                      \n__________________________________________________________________________________________________\nmSpecModel (Functional)         (None, 128)          94560       mspec[0][0]                      \n__________________________________________________________________________________________________\nconcatenate_1 (Concatenate)     (None, 384)          0           mfccModel[0][0]                  \n                                                                 cromaModel[0][0]                 \n                                                                 mSpecModel[0][0]                 \n__________________________________________________________________________________________________\ndense_3 (Dense)                 (None, 50)           19250       concatenate_1[0][0]              \n__________________________________________________________________________________________________\ndropout_4 (Dropout)             (None, 50)           0           dense_3[0][0]                    \n__________________________________________________________________________________________________\ndense_4 (Dense)                 (None, 25)           1275        dropout_4[0][0]                  \n__________________________________________________________________________________________________\ndropout_5 (Dropout)             (None, 25)           0           dense_4[0][0]                    \n__________________________________________________________________________________________________\ndense_5 (Dense)                 (None, 8)            208         dropout_5[0][0]                  \n==================================================================================================\nTotal params: 262,973\nTrainable params: 261,245\nNon-trainable params: 1,728\n__________________________________________________________________________________________________\n",
          "output_type": "stream"
        }
      ]
    },
    {
      "cell_type": "code",
      "source": [
        "keras.utils.plot_model(net, \"net.png\", show_shapes=True)"
      ],
      "metadata": {
        "execution": {
          "iopub.status.busy": "2024-07-02T18:10:36.734638Z",
          "iopub.execute_input": "2024-07-02T18:10:36.734974Z",
          "iopub.status.idle": "2024-07-02T18:10:37.070434Z",
          "shell.execute_reply.started": "2024-07-02T18:10:36.734933Z",
          "shell.execute_reply": "2024-07-02T18:10:37.069447Z"
        },
        "trusted": true,
        "id": "HQ_4lrRCseNA",
        "outputId": "46864b61-4351-4cde-b099-bb1473bbd80e"
      },
      "execution_count": null,
      "outputs": [
        {
          "execution_count": 39,
          "output_type": "execute_result",
          "data": {
            "image/png": "[encoded data removed]",
            "text/plain": "<IPython.core.display.Image object>"
          },
          "metadata": {}
        }
      ]
    },
    {
      "cell_type": "code",
      "source": [
        "from keras import backend as K\n",
        "net.compile(loss='sparse_categorical_crossentropy', optimizer='nadam', metrics=['accuracy'])\n",
        "K.set_value(net.optimizer.learning_rate, 0.001)"
      ],
      "metadata": {
        "execution": {
          "iopub.status.busy": "2024-07-02T18:10:37.073191Z",
          "iopub.execute_input": "2024-07-02T18:10:37.073695Z",
          "iopub.status.idle": "2024-07-02T18:10:37.097530Z",
          "shell.execute_reply.started": "2024-07-02T18:10:37.073614Z",
          "shell.execute_reply": "2024-07-02T18:10:37.096717Z"
        },
        "trusted": true,
        "id": "bJp3ROnBseNB"
      },
      "execution_count": null,
      "outputs": []
    },
    {
      "cell_type": "code",
      "source": [
        "history=net.fit(\n",
        "    {\"mfcc\":mfcc_train,\"croma\":cstft_train,\"mspec\":mSpec_train},\n",
        "    ytrain,\n",
        "    validation_data=({\"mfcc\":mfcc_val,\"croma\":cstft_val,\"mspec\":mSpec_val},yval),\n",
        "    epochs=100,verbose=0,\n",
        "    callbacks=my_callbacks\n",
        ")"
      ],
      "metadata": {
        "execution": {
          "iopub.status.busy": "2024-07-02T18:10:37.099278Z",
          "iopub.execute_input": "2024-07-02T18:10:37.099561Z",
          "iopub.status.idle": "2024-07-02T18:12:00.737391Z",
          "shell.execute_reply.started": "2024-07-02T18:10:37.099532Z",
          "shell.execute_reply": "2024-07-02T18:12:00.736391Z"
        },
        "trusted": true,
        "id": "Y5_yHnQYseNB"
      },
      "execution_count": null,
      "outputs": []
    },
    {
      "cell_type": "code",
      "source": [
        "import pickle\n",
        "with open('model.pkl', 'wb') as file:\n",
        "    pickle.dump(history.history, file)"
      ],
      "metadata": {
        "execution": {
          "iopub.status.busy": "2024-07-02T18:12:00.740047Z",
          "iopub.execute_input": "2024-07-02T18:12:00.740540Z",
          "iopub.status.idle": "2024-07-02T18:12:00.746440Z",
          "shell.execute_reply.started": "2024-07-02T18:12:00.740484Z",
          "shell.execute_reply": "2024-07-02T18:12:00.745287Z"
        },
        "trusted": true,
        "id": "2wEzEKkEseNB"
      },
      "execution_count": null,
      "outputs": []
    },
    {
      "cell_type": "code",
      "source": [
        "pd.DataFrame(history.history).plot()\n",
        "plt.grid(True)\n",
        "plt.gca().set_ylim(-0.1,1.1)\n",
        "plt.show()"
      ],
      "metadata": {
        "execution": {
          "iopub.status.busy": "2024-07-02T18:12:00.747982Z",
          "iopub.execute_input": "2024-07-02T18:12:00.748339Z",
          "iopub.status.idle": "2024-07-02T18:12:01.015218Z",
          "shell.execute_reply.started": "2024-07-02T18:12:00.748295Z",
          "shell.execute_reply": "2024-07-02T18:12:01.014138Z"
        },
        "trusted": true,
        "id": "ZMyLTF8AseNB",
        "outputId": "e9c8bf42-6f17-424f-f78b-dd9d8cb1c4ce"
      },
      "execution_count": null,
      "outputs": [
        {
          "output_type": "display_data",
          "data": {
            "text/plain": "<Figure size 432x288 with 1 Axes>",
            "image/png": "[encoded data removed]"
          },
          "metadata": {
            "needs_background": "light"
          }
        }
      ]
    },
    {
      "cell_type": "code",
      "source": [
        "net.evaluate({\"mfcc\":mfcc_val,\"croma\":cstft_val,\"mspec\":mSpec_val},yval)"
      ],
      "metadata": {
        "execution": {
          "iopub.status.busy": "2024-07-02T18:12:01.017138Z",
          "iopub.execute_input": "2024-07-02T18:12:01.017621Z",
          "iopub.status.idle": "2024-07-02T18:12:01.609506Z",
          "shell.execute_reply.started": "2024-07-02T18:12:01.017575Z",
          "shell.execute_reply": "2024-07-02T18:12:01.608638Z"
        },
        "trusted": true,
        "id": "XZtp5tEfseNB",
        "outputId": "01c4d50e-692b-4a27-8f83-fabf4c761c09"
      },
      "execution_count": null,
      "outputs": [
        {
          "name": "stdout",
          "text": "54/54 [==============================] - 0s 5ms/step - loss: 0.2088 - accuracy: 0.9246\n",
          "output_type": "stream"
        },
        {
          "execution_count": 44,
          "output_type": "execute_result",
          "data": {
            "text/plain": "[0.2087860256433487, 0.9246376752853394]"
          },
          "metadata": {}
        }
      ]
    },
    {
      "cell_type": "code",
      "source": [],
      "metadata": {
        "id": "TyXotdxHseNB"
      },
      "execution_count": null,
      "outputs": []
    }
  ]
}