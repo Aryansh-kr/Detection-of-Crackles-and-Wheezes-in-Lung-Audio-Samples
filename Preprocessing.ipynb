{
  "metadata": {
    "kernelspec": {
      "language": "python",
      "display_name": "Python 3",
      "name": "python3"
    },
    "language_info": {
      "name": "python",
      "version": "3.7.6",
      "mimetype": "text/x-python",
      "codemirror_mode": {
        "name": "ipython",
        "version": 3
      },
      "pygments_lexer": "ipython3",
      "nbconvert_exporter": "python",
      "file_extension": ".py"
    },
    "kaggle": {
      "accelerator": "gpu",
      "dataSources": [
        {
          "sourceId": 267422,
          "sourceType": "datasetVersion",
          "datasetId": 110374
        }
      ],
      "dockerImageVersionId": 30009,
      "isInternetEnabled": true,
      "language": "python",
      "sourceType": "notebook",
      "isGpuEnabled": true
    },
    "colab": {
      "provenance": []
    }
  },
  "nbformat_minor": 0,
  "nbformat": 4,
  "cells": [
    {
      "cell_type": "code",
      "source": [
        "import numpy as np # linear algebra\n",
        "import pandas as pd # data processing, CSV file I/O (e.g. pd.read_csv)\n",
        "import tensorflow as tf\n",
        "from tensorflow import keras\n",
        "import matplotlib.pyplot as plt\n",
        "import seaborn as sns\n",
        "import librosa.display\n",
        "import os"
      ],
      "metadata": {
        "_uuid": "8f2839f25d086af736a60e9eeb907d3b93b6e0e5",
        "_cell_guid": "b1076dfc-b9ad-4769-8c92-a6c4dae69d19",
        "execution": {
          "iopub.status.busy": "2024-07-02T16:30:18.735964Z",
          "iopub.execute_input": "2024-07-02T16:30:18.736394Z",
          "iopub.status.idle": "2024-07-02T16:30:25.643242Z",
          "shell.execute_reply.started": "2024-07-02T16:30:18.736357Z",
          "shell.execute_reply": "2024-07-02T16:30:25.641993Z"
        },
        "trusted": true,
        "id": "F8QEDKCdWMgp"
      },
      "execution_count": null,
      "outputs": []
    },
    {
      "cell_type": "markdown",
      "source": [
        "# Step-1\n",
        "\n",
        "# Reading Data"
      ],
      "metadata": {
        "id": "_CcSKfuzWMgr"
      }
    },
    {
      "cell_type": "code",
      "source": [
        "patient_data=pd.read_csv('/kaggle/input/respiratory-sound-database/Respiratory_Sound_Database/Respiratory_Sound_Database/patient_diagnosis.csv',names=['pid','disease'])"
      ],
      "metadata": {
        "_uuid": "d629ff2d2480ee46fbb7e2d37f6b5fab8052498a",
        "_cell_guid": "79c7e3d0-c299-4dcb-8224-4455121ee9b0",
        "execution": {
          "iopub.status.busy": "2024-07-02T16:30:25.645975Z",
          "iopub.execute_input": "2024-07-02T16:30:25.646357Z",
          "iopub.status.idle": "2024-07-02T16:30:25.668892Z",
          "shell.execute_reply.started": "2024-07-02T16:30:25.646321Z",
          "shell.execute_reply": "2024-07-02T16:30:25.668193Z"
        },
        "trusted": true,
        "id": "nCAHIg3jWMgs"
      },
      "execution_count": null,
      "outputs": []
    },
    {
      "cell_type": "code",
      "source": [
        "patient_data.head()"
      ],
      "metadata": {
        "execution": {
          "iopub.status.busy": "2024-07-02T16:30:25.670396Z",
          "iopub.execute_input": "2024-07-02T16:30:25.670826Z",
          "iopub.status.idle": "2024-07-02T16:30:25.690279Z",
          "shell.execute_reply.started": "2024-07-02T16:30:25.670782Z",
          "shell.execute_reply": "2024-07-02T16:30:25.689194Z"
        },
        "trusted": true,
        "id": "8K2mGdzJWMgt",
        "outputId": "655ae291-1716-490a-bf5c-dd4eb058d353"
      },
      "execution_count": null,
      "outputs": [
        {
          "execution_count": 3,
          "output_type": "execute_result",
          "data": {
            "text/plain": "   pid  disease\n0  101     URTI\n1  102  Healthy\n2  103   Asthma\n3  104     COPD\n4  105     URTI",
            "text/html": "<div>\n<style scoped>\n    .dataframe tbody tr th:only-of-type {\n        vertical-align: middle;\n    }\n\n    .dataframe tbody tr th {\n        vertical-align: top;\n    }\n\n    .dataframe thead th {\n        text-align: right;\n    }\n</style>\n<table border=\"1\" class=\"dataframe\">\n  <thead>\n    <tr style=\"text-align: right;\">\n      <th></th>\n      <th>pid</th>\n      <th>disease</th>\n    </tr>\n  </thead>\n  <tbody>\n    <tr>\n      <th>0</th>\n      <td>101</td>\n      <td>URTI</td>\n    </tr>\n    <tr>\n      <th>1</th>\n      <td>102</td>\n      <td>Healthy</td>\n    </tr>\n    <tr>\n      <th>2</th>\n      <td>103</td>\n      <td>Asthma</td>\n    </tr>\n    <tr>\n      <th>3</th>\n      <td>104</td>\n      <td>COPD</td>\n    </tr>\n    <tr>\n      <th>4</th>\n      <td>105</td>\n      <td>URTI</td>\n    </tr>\n  </tbody>\n</table>\n</div>"
          },
          "metadata": {}
        }
      ]
    },
    {
      "cell_type": "markdown",
      "source": [
        "* Here we have Patient Ids and Disease info\n",
        "  "
      ],
      "metadata": {
        "id": "H9tFKpItWMgt"
      }
    },
    {
      "cell_type": "markdown",
      "source": [
        "> Lets check out what is in annoted '.txt' files of audio files."
      ],
      "metadata": {
        "id": "WG1YiIWyWMgt"
      }
    },
    {
      "cell_type": "code",
      "source": [
        "df=pd.read_csv('/kaggle/input/respiratory-sound-database/Respiratory_Sound_Database/Respiratory_Sound_Database/audio_and_txt_files/160_1b3_Al_mc_AKGC417L.txt',sep='\\t')\n",
        "df.head()"
      ],
      "metadata": {
        "execution": {
          "iopub.status.busy": "2024-07-02T16:30:25.691633Z",
          "iopub.execute_input": "2024-07-02T16:30:25.691952Z",
          "iopub.status.idle": "2024-07-02T16:30:25.716148Z",
          "shell.execute_reply.started": "2024-07-02T16:30:25.691922Z",
          "shell.execute_reply": "2024-07-02T16:30:25.715195Z"
        },
        "trusted": true,
        "id": "xyrGrAb9WMgu",
        "outputId": "d31f4b62-b37f-4f03-c4d5-27af7081d6f4"
      },
      "execution_count": null,
      "outputs": [
        {
          "execution_count": 4,
          "output_type": "execute_result",
          "data": {
            "text/plain": "    1.862   5.718  0  1\n0   5.718   9.725  1  1\n1   9.725  13.614  0  1\n2  13.614  17.671  0  1\n3  17.671  19.541  0  0",
            "text/html": "<div>\n<style scoped>\n    .dataframe tbody tr th:only-of-type {\n        vertical-align: middle;\n    }\n\n    .dataframe tbody tr th {\n        vertical-align: top;\n    }\n\n    .dataframe thead th {\n        text-align: right;\n    }\n</style>\n<table border=\"1\" class=\"dataframe\">\n  <thead>\n    <tr style=\"text-align: right;\">\n      <th></th>\n      <th>1.862</th>\n      <th>5.718</th>\n      <th>0</th>\n      <th>1</th>\n    </tr>\n  </thead>\n  <tbody>\n    <tr>\n      <th>0</th>\n      <td>5.718</td>\n      <td>9.725</td>\n      <td>1</td>\n      <td>1</td>\n    </tr>\n    <tr>\n      <th>1</th>\n      <td>9.725</td>\n      <td>13.614</td>\n      <td>0</td>\n      <td>1</td>\n    </tr>\n    <tr>\n      <th>2</th>\n      <td>13.614</td>\n      <td>17.671</td>\n      <td>0</td>\n      <td>1</td>\n    </tr>\n    <tr>\n      <th>3</th>\n      <td>17.671</td>\n      <td>19.541</td>\n      <td>0</td>\n      <td>0</td>\n    </tr>\n  </tbody>\n</table>\n</div>"
          },
          "metadata": {}
        }
      ]
    },
    {
      "cell_type": "markdown",
      "source": [
        "* These are very usefull information namely (Start , End ( time of respiratory cycles) ,crackles,weezels)\n",
        "\n",
        "> So lets get them into a dataset\n",
        "\n",
        "> Note:- i use sep **' \\t '** cause we are reading data from text file which is sperated by tabs here"
      ],
      "metadata": {
        "id": "LCFfCk_AWMgu"
      }
    },
    {
      "cell_type": "code",
      "source": [
        "import os\n",
        "path='/kaggle/input/respiratory-sound-database/Respiratory_Sound_Database/Respiratory_Sound_Database/audio_and_txt_files/'\n",
        "files=[s.split('.')[0] for s in os.listdir(path) if '.txt' in s]\n",
        "files[:5]"
      ],
      "metadata": {
        "execution": {
          "iopub.status.busy": "2024-07-02T16:30:25.719520Z",
          "iopub.execute_input": "2024-07-02T16:30:25.719835Z",
          "iopub.status.idle": "2024-07-02T16:30:25.992938Z",
          "shell.execute_reply.started": "2024-07-02T16:30:25.719803Z",
          "shell.execute_reply": "2024-07-02T16:30:25.992062Z"
        },
        "trusted": true,
        "id": "MvNstsc8WMgu",
        "outputId": "20003e07-0634-4933-c9fa-d08179984349"
      },
      "execution_count": null,
      "outputs": [
        {
          "execution_count": 5,
          "output_type": "execute_result",
          "data": {
            "text/plain": "['168_1b1_Al_sc_Meditron',\n '172_1b4_Ar_mc_AKGC417L',\n '130_3p2_Pr_mc_AKGC417L',\n '177_2b4_Pl_mc_AKGC417L',\n '130_2p5_Pl_mc_AKGC417L']"
          },
          "metadata": {}
        }
      ]
    },
    {
      "cell_type": "markdown",
      "source": [
        "> As mentioned in **filename_format.txt** , '.txt' files of annotated audio files have various information. So we will try to extract that too.  "
      ],
      "metadata": {
        "id": "8YZlN5m9WMgv"
      }
    },
    {
      "cell_type": "code",
      "source": [
        "def getFilenameInfo(file):\n",
        "    return file.split('_')"
      ],
      "metadata": {
        "execution": {
          "iopub.status.busy": "2024-07-02T16:30:25.994655Z",
          "iopub.execute_input": "2024-07-02T16:30:25.994947Z",
          "iopub.status.idle": "2024-07-02T16:30:25.999058Z",
          "shell.execute_reply.started": "2024-07-02T16:30:25.994916Z",
          "shell.execute_reply": "2024-07-02T16:30:25.998084Z"
        },
        "trusted": true,
        "id": "07NR9M4kWMgv"
      },
      "execution_count": null,
      "outputs": []
    },
    {
      "cell_type": "code",
      "source": [
        "getFilenameInfo('160_1b3_Al_mc_AKGC417L')"
      ],
      "metadata": {
        "execution": {
          "iopub.status.busy": "2024-07-02T16:30:26.000379Z",
          "iopub.execute_input": "2024-07-02T16:30:26.000688Z",
          "iopub.status.idle": "2024-07-02T16:30:26.011967Z",
          "shell.execute_reply.started": "2024-07-02T16:30:26.000653Z",
          "shell.execute_reply": "2024-07-02T16:30:26.010976Z"
        },
        "trusted": true,
        "id": "PzuKqshGWMgv",
        "outputId": "760349c1-dea5-4ff6-c64a-6e4c97aca201"
      },
      "execution_count": null,
      "outputs": [
        {
          "execution_count": 7,
          "output_type": "execute_result",
          "data": {
            "text/plain": "['160', '1b3', 'Al', 'mc', 'AKGC417L']"
          },
          "metadata": {}
        }
      ]
    },
    {
      "cell_type": "markdown",
      "source": [
        "> Here useful info  is [Patient ID, __ ,__ ,Type(mono,stereo), __ ]"
      ],
      "metadata": {
        "id": "Q0gwOFAYWMgv"
      }
    },
    {
      "cell_type": "code",
      "source": [
        "files_data=[]\n",
        "for file in files:\n",
        "    data=pd.read_csv(path + file + '.txt',sep='\\t',names=['start','end','crackles','weezels'])\n",
        "    name_data=getFilenameInfo(file)\n",
        "    data['pid']=name_data[0]\n",
        "    data['mode']=name_data[-2]\n",
        "    data['filename']=file\n",
        "    files_data.append(data)\n",
        "files_df=pd.concat(files_data)\n",
        "files_df.reset_index()\n",
        "files_df.head()"
      ],
      "metadata": {
        "execution": {
          "iopub.status.busy": "2024-07-02T16:30:26.013302Z",
          "iopub.execute_input": "2024-07-02T16:30:26.013630Z",
          "iopub.status.idle": "2024-07-02T16:30:36.309454Z",
          "shell.execute_reply.started": "2024-07-02T16:30:26.013586Z",
          "shell.execute_reply": "2024-07-02T16:30:36.308650Z"
        },
        "trusted": true,
        "id": "oTeE595zWMgv",
        "outputId": "346ec59b-596e-4be4-c753-89a9ca6c98ff"
      },
      "execution_count": null,
      "outputs": [
        {
          "execution_count": 8,
          "output_type": "execute_result",
          "data": {
            "text/plain": "    start     end  crackles  weezels  pid mode                filename\n0   0.036   2.436         0        0  168   sc  168_1b1_Al_sc_Meditron\n1   2.436   5.250         0        0  168   sc  168_1b1_Al_sc_Meditron\n2   5.250   8.422         0        0  168   sc  168_1b1_Al_sc_Meditron\n3   8.422  11.222         0        0  168   sc  168_1b1_Al_sc_Meditron\n4  11.222  13.807         0        0  168   sc  168_1b1_Al_sc_Meditron",
            "text/html": "<div>\n<style scoped>\n    .dataframe tbody tr th:only-of-type {\n        vertical-align: middle;\n    }\n\n    .dataframe tbody tr th {\n        vertical-align: top;\n    }\n\n    .dataframe thead th {\n        text-align: right;\n    }\n</style>\n<table border=\"1\" class=\"dataframe\">\n  <thead>\n    <tr style=\"text-align: right;\">\n      <th></th>\n      <th>start</th>\n      <th>end</th>\n      <th>crackles</th>\n      <th>weezels</th>\n      <th>pid</th>\n      <th>mode</th>\n      <th>filename</th>\n    </tr>\n  </thead>\n  <tbody>\n    <tr>\n      <th>0</th>\n      <td>0.036</td>\n      <td>2.436</td>\n      <td>0</td>\n      <td>0</td>\n      <td>168</td>\n      <td>sc</td>\n      <td>168_1b1_Al_sc_Meditron</td>\n    </tr>\n    <tr>\n      <th>1</th>\n      <td>2.436</td>\n      <td>5.250</td>\n      <td>0</td>\n      <td>0</td>\n      <td>168</td>\n      <td>sc</td>\n      <td>168_1b1_Al_sc_Meditron</td>\n    </tr>\n    <tr>\n      <th>2</th>\n      <td>5.250</td>\n      <td>8.422</td>\n      <td>0</td>\n      <td>0</td>\n      <td>168</td>\n      <td>sc</td>\n      <td>168_1b1_Al_sc_Meditron</td>\n    </tr>\n    <tr>\n      <th>3</th>\n      <td>8.422</td>\n      <td>11.222</td>\n      <td>0</td>\n      <td>0</td>\n      <td>168</td>\n      <td>sc</td>\n      <td>168_1b1_Al_sc_Meditron</td>\n    </tr>\n    <tr>\n      <th>4</th>\n      <td>11.222</td>\n      <td>13.807</td>\n      <td>0</td>\n      <td>0</td>\n      <td>168</td>\n      <td>sc</td>\n      <td>168_1b1_Al_sc_Meditron</td>\n    </tr>\n  </tbody>\n</table>\n</div>"
          },
          "metadata": {}
        }
      ]
    },
    {
      "cell_type": "markdown",
      "source": [
        "> Now we can join both **patient_data** and **files_df**"
      ],
      "metadata": {
        "id": "GRqsjy36WMgw"
      }
    },
    {
      "cell_type": "code",
      "source": [
        "patient_data.info()"
      ],
      "metadata": {
        "execution": {
          "iopub.status.busy": "2024-07-02T16:30:36.310534Z",
          "iopub.execute_input": "2024-07-02T16:30:36.310829Z",
          "iopub.status.idle": "2024-07-02T16:30:36.324397Z",
          "shell.execute_reply.started": "2024-07-02T16:30:36.310800Z",
          "shell.execute_reply": "2024-07-02T16:30:36.323550Z"
        },
        "trusted": true,
        "id": "aKqYXbmUWMgw",
        "outputId": "d373a8da-dc94-40ff-b287-c445b9f95f0c"
      },
      "execution_count": null,
      "outputs": [
        {
          "name": "stdout",
          "text": "<class 'pandas.core.frame.DataFrame'>\nRangeIndex: 126 entries, 0 to 125\nData columns (total 2 columns):\n #   Column   Non-Null Count  Dtype \n---  ------   --------------  ----- \n 0   pid      126 non-null    int64 \n 1   disease  126 non-null    object\ndtypes: int64(1), object(1)\nmemory usage: 2.1+ KB\n",
          "output_type": "stream"
        }
      ]
    },
    {
      "cell_type": "code",
      "source": [
        "files_df.info()"
      ],
      "metadata": {
        "execution": {
          "iopub.status.busy": "2024-07-02T16:30:36.325876Z",
          "iopub.execute_input": "2024-07-02T16:30:36.326186Z",
          "iopub.status.idle": "2024-07-02T16:30:36.343581Z",
          "shell.execute_reply.started": "2024-07-02T16:30:36.326158Z",
          "shell.execute_reply": "2024-07-02T16:30:36.342742Z"
        },
        "trusted": true,
        "id": "MKMSuQjwWMgw",
        "outputId": "87c95ddc-387f-42cc-fbb7-ebd40f5b8916"
      },
      "execution_count": null,
      "outputs": [
        {
          "name": "stdout",
          "text": "<class 'pandas.core.frame.DataFrame'>\nInt64Index: 6898 entries, 0 to 2\nData columns (total 7 columns):\n #   Column    Non-Null Count  Dtype  \n---  ------    --------------  -----  \n 0   start     6898 non-null   float64\n 1   end       6898 non-null   float64\n 2   crackles  6898 non-null   int64  \n 3   weezels   6898 non-null   int64  \n 4   pid       6898 non-null   object \n 5   mode      6898 non-null   object \n 6   filename  6898 non-null   object \ndtypes: float64(2), int64(2), object(3)\nmemory usage: 431.1+ KB\n",
          "output_type": "stream"
        }
      ]
    },
    {
      "cell_type": "markdown",
      "source": [
        "> Lets get **pid** and **101** to same type and merge both dataframes on pid"
      ],
      "metadata": {
        "id": "LeLPqO_BWMgw"
      }
    },
    {
      "cell_type": "code",
      "source": [
        "patient_data.pid=patient_data.pid.astype('int32')\n",
        "files_df.pid=files_df.pid.astype('int32')"
      ],
      "metadata": {
        "execution": {
          "iopub.status.busy": "2024-07-02T16:30:36.344893Z",
          "iopub.execute_input": "2024-07-02T16:30:36.345255Z",
          "iopub.status.idle": "2024-07-02T16:30:36.353582Z",
          "shell.execute_reply.started": "2024-07-02T16:30:36.345198Z",
          "shell.execute_reply": "2024-07-02T16:30:36.352891Z"
        },
        "trusted": true,
        "id": "cl0p17iWWMgw"
      },
      "execution_count": null,
      "outputs": []
    },
    {
      "cell_type": "code",
      "source": [
        "data=pd.merge(files_df,patient_data,on='pid')\n",
        "data.head()"
      ],
      "metadata": {
        "execution": {
          "iopub.status.busy": "2024-07-02T16:30:36.355183Z",
          "iopub.execute_input": "2024-07-02T16:30:36.355478Z",
          "iopub.status.idle": "2024-07-02T16:30:36.390761Z",
          "shell.execute_reply.started": "2024-07-02T16:30:36.355439Z",
          "shell.execute_reply": "2024-07-02T16:30:36.389853Z"
        },
        "trusted": true,
        "id": "UVcYnqptWMgw",
        "outputId": "e03e54f5-c565-4754-dd7b-2e78c3db629d"
      },
      "execution_count": null,
      "outputs": [
        {
          "execution_count": 12,
          "output_type": "execute_result",
          "data": {
            "text/plain": "    start     end  crackles  weezels  pid mode                filename  \\\n0   0.036   2.436         0        0  168   sc  168_1b1_Al_sc_Meditron   \n1   2.436   5.250         0        0  168   sc  168_1b1_Al_sc_Meditron   \n2   5.250   8.422         0        0  168   sc  168_1b1_Al_sc_Meditron   \n3   8.422  11.222         0        0  168   sc  168_1b1_Al_sc_Meditron   \n4  11.222  13.807         0        0  168   sc  168_1b1_Al_sc_Meditron   \n\n          disease  \n0  Bronchiectasis  \n1  Bronchiectasis  \n2  Bronchiectasis  \n3  Bronchiectasis  \n4  Bronchiectasis  ",
            "text/html": "<div>\n<style scoped>\n    .dataframe tbody tr th:only-of-type {\n        vertical-align: middle;\n    }\n\n    .dataframe tbody tr th {\n        vertical-align: top;\n    }\n\n    .dataframe thead th {\n        text-align: right;\n    }\n</style>\n<table border=\"1\" class=\"dataframe\">\n  <thead>\n    <tr style=\"text-align: right;\">\n      <th></th>\n      <th>start</th>\n      <th>end</th>\n      <th>crackles</th>\n      <th>weezels</th>\n      <th>pid</th>\n      <th>mode</th>\n      <th>filename</th>\n      <th>disease</th>\n    </tr>\n  </thead>\n  <tbody>\n    <tr>\n      <th>0</th>\n      <td>0.036</td>\n      <td>2.436</td>\n      <td>0</td>\n      <td>0</td>\n      <td>168</td>\n      <td>sc</td>\n      <td>168_1b1_Al_sc_Meditron</td>\n      <td>Bronchiectasis</td>\n    </tr>\n    <tr>\n      <th>1</th>\n      <td>2.436</td>\n      <td>5.250</td>\n      <td>0</td>\n      <td>0</td>\n      <td>168</td>\n      <td>sc</td>\n      <td>168_1b1_Al_sc_Meditron</td>\n      <td>Bronchiectasis</td>\n    </tr>\n    <tr>\n      <th>2</th>\n      <td>5.250</td>\n      <td>8.422</td>\n      <td>0</td>\n      <td>0</td>\n      <td>168</td>\n      <td>sc</td>\n      <td>168_1b1_Al_sc_Meditron</td>\n      <td>Bronchiectasis</td>\n    </tr>\n    <tr>\n      <th>3</th>\n      <td>8.422</td>\n      <td>11.222</td>\n      <td>0</td>\n      <td>0</td>\n      <td>168</td>\n      <td>sc</td>\n      <td>168_1b1_Al_sc_Meditron</td>\n      <td>Bronchiectasis</td>\n    </tr>\n    <tr>\n      <th>4</th>\n      <td>11.222</td>\n      <td>13.807</td>\n      <td>0</td>\n      <td>0</td>\n      <td>168</td>\n      <td>sc</td>\n      <td>168_1b1_Al_sc_Meditron</td>\n      <td>Bronchiectasis</td>\n    </tr>\n  </tbody>\n</table>\n</div>"
          },
          "metadata": {}
        }
      ]
    },
    {
      "cell_type": "code",
      "source": [
        "os.makedirs('csv_data')\n",
        "data.to_csv('csv_data/data.csv',index=False)"
      ],
      "metadata": {
        "execution": {
          "iopub.status.busy": "2024-07-02T16:30:36.392176Z",
          "iopub.execute_input": "2024-07-02T16:30:36.392471Z",
          "iopub.status.idle": "2024-07-02T16:30:36.833189Z",
          "shell.execute_reply.started": "2024-07-02T16:30:36.392442Z",
          "shell.execute_reply": "2024-07-02T16:30:36.832087Z"
        },
        "trusted": true,
        "id": "dMOvV41SWMgx"
      },
      "execution_count": null,
      "outputs": []
    },
    {
      "cell_type": "markdown",
      "source": [
        "# Step 2\n",
        "\n",
        "# Processing Audio files"
      ],
      "metadata": {
        "id": "zt3fNsaHWMgx"
      }
    },
    {
      "cell_type": "markdown",
      "source": [
        "> Now we only want that parts from whole audio file which contains **Respiratory Cycles**\n",
        "\n",
        "> We can do this by utilizing the start and end time specifiles for these cycles in our **data dataframe**"
      ],
      "metadata": {
        "id": "L-f0oIU9WMgx"
      }
    },
    {
      "cell_type": "code",
      "source": [
        "def getPureSample(raw_data,start,end,sr=22050):\n",
        "    '''\n",
        "    Takes a numpy array and spilts its using start and end args\n",
        "\n",
        "    raw_data=numpy array of audio sample\n",
        "    start=time\n",
        "    end=time\n",
        "    sr=sampling_rate\n",
        "    mode=mono/stereo\n",
        "\n",
        "    '''\n",
        "    max_ind = len(raw_data)\n",
        "    start_ind = min(int(start * sr), max_ind)\n",
        "    end_ind = min(int(end * sr), max_ind)\n",
        "    return raw_data[start_ind: end_ind]"
      ],
      "metadata": {
        "execution": {
          "iopub.status.busy": "2024-07-02T16:30:36.834754Z",
          "iopub.execute_input": "2024-07-02T16:30:36.835208Z",
          "iopub.status.idle": "2024-07-02T16:30:36.843133Z",
          "shell.execute_reply.started": "2024-07-02T16:30:36.835166Z",
          "shell.execute_reply": "2024-07-02T16:30:36.842077Z"
        },
        "trusted": true,
        "id": "vsiBJhDjWMgx"
      },
      "execution_count": null,
      "outputs": []
    },
    {
      "cell_type": "markdown",
      "source": [
        "* we multiplied start with sampling rate cause start is time and raw_data is array sampled acc. to sampling rate\n",
        "\n",
        "> Now we also want our input images to our cnn to be of same size for that audio files must be of **same length** i.e **(start - end)** must be same\n",
        "\n",
        "> Lets find the best length we can have"
      ],
      "metadata": {
        "id": "zXGxYG3LWMgx"
      }
    },
    {
      "cell_type": "code",
      "source": [
        "sns.scatterplot(x=(data.end-data.start), y=data.pid)"
      ],
      "metadata": {
        "execution": {
          "iopub.status.busy": "2024-07-02T16:30:36.844857Z",
          "iopub.execute_input": "2024-07-02T16:30:36.845297Z",
          "iopub.status.idle": "2024-07-02T16:30:37.143592Z",
          "shell.execute_reply.started": "2024-07-02T16:30:36.845259Z",
          "shell.execute_reply": "2024-07-02T16:30:37.142366Z"
        },
        "trusted": true,
        "id": "TanN81dqWMgx",
        "outputId": "46a06f2a-a4cb-47d3-8c0b-f934218412c0"
      },
      "execution_count": null,
      "outputs": [
        {
          "execution_count": 15,
          "output_type": "execute_result",
          "data": {
            "text/plain": "<matplotlib.axes._subplots.AxesSubplot at 0x7a515c61e910>"
          },
          "metadata": {}
        },
        {
          "output_type": "display_data",
          "data": {
            "text/plain": "<Figure size 432x288 with 1 Axes>",
            "image/png": "[encoded data removed]"
          },
          "metadata": {
            "needs_background": "light"
          }
        }
      ]
    },
    {
      "cell_type": "code",
      "source": [
        "sns.boxplot(y=(data.end-data.start))"
      ],
      "metadata": {
        "execution": {
          "iopub.status.busy": "2024-07-02T16:30:37.145230Z",
          "iopub.execute_input": "2024-07-02T16:30:37.145625Z",
          "iopub.status.idle": "2024-07-02T16:30:37.286191Z",
          "shell.execute_reply.started": "2024-07-02T16:30:37.145583Z",
          "shell.execute_reply": "2024-07-02T16:30:37.285013Z"
        },
        "trusted": true,
        "id": "MRrwEkOhWMgx",
        "outputId": "21e6be4d-4fe1-4841-bcd4-57b0531a47d2"
      },
      "execution_count": null,
      "outputs": [
        {
          "execution_count": 16,
          "output_type": "execute_result",
          "data": {
            "text/plain": "<matplotlib.axes._subplots.AxesSubplot at 0x7a51583411d0>"
          },
          "metadata": {}
        },
        {
          "output_type": "display_data",
          "data": {
            "text/plain": "<Figure size 432x288 with 1 Axes>",
            "image/png": "[encoded data removed]"
          },
          "metadata": {
            "needs_background": "light"
          }
        }
      ]
    },
    {
      "cell_type": "markdown",
      "source": [
        "+ From these plots, we can conclude that the best length is approximately 6. Additionally, if the difference is less than 6, we must Zero Pad it to reach the required length.\n",
        "\n",
        "+ Zero Padding effectively means adding silence to reach the desired length.\n"
      ],
      "metadata": {
        "id": "RHtNTQi1WMgy"
      }
    },
    {
      "cell_type": "code",
      "source": [
        "# Lets create a directory for storing our files\n",
        "os.makedirs('processed_audio_files')"
      ],
      "metadata": {
        "execution": {
          "iopub.status.busy": "2024-07-02T16:30:37.287643Z",
          "iopub.execute_input": "2024-07-02T16:30:37.288036Z",
          "iopub.status.idle": "2024-07-02T16:30:37.293246Z",
          "shell.execute_reply.started": "2024-07-02T16:30:37.288000Z",
          "shell.execute_reply": "2024-07-02T16:30:37.292374Z"
        },
        "trusted": true,
        "id": "DuuMqvwoWMgy"
      },
      "execution_count": null,
      "outputs": []
    },
    {
      "cell_type": "code",
      "source": [
        "for index,row in data.iterrows():\n",
        "    print(\"Index ->\",index)\n",
        "    print(\"Data->\\n\",row)\n",
        "    break"
      ],
      "metadata": {
        "execution": {
          "iopub.status.busy": "2024-07-02T16:30:37.294847Z",
          "iopub.execute_input": "2024-07-02T16:30:37.295285Z",
          "iopub.status.idle": "2024-07-02T16:30:37.307300Z",
          "shell.execute_reply.started": "2024-07-02T16:30:37.295244Z",
          "shell.execute_reply": "2024-07-02T16:30:37.306244Z"
        },
        "trusted": true,
        "id": "CmSLoHMYWMgy",
        "outputId": "e0b85a02-23f5-4376-e21d-b860147f35f7"
      },
      "execution_count": null,
      "outputs": [
        {
          "name": "stdout",
          "text": "Index -> 0\nData->\n start                        0.036\nend                          2.436\ncrackles                         0\nweezels                          0\npid                            168\nmode                            sc\nfilename    168_1b1_Al_sc_Meditron\ndisease             Bronchiectasis\nName: 0, dtype: object\n",
          "output_type": "stream"
        }
      ]
    },
    {
      "cell_type": "markdown",
      "source": [
        "A single sample audio file can contain many respiratory cycles, so we might need to save multiple files from a single audio file using the Librosa module for loading and the Soundfile module for writing to the output path."
      ],
      "metadata": {
        "id": "xcHDPAdPWMgy"
      }
    },
    {
      "cell_type": "code",
      "source": [
        "import librosa as lb\n",
        "import soundfile as sf\n",
        "i,c=0,0\n",
        "for index,row in data.iterrows():\n",
        "    maxLen=6\n",
        "    start=row['start']\n",
        "    end=row['end']\n",
        "    filename=row['filename']\n",
        "\n",
        "    #If len > maxLen , change it to maxLen\n",
        "    if end-start>maxLen:\n",
        "        end=start+maxLen\n",
        "\n",
        "    audio_file_loc=path + filename + '.wav'\n",
        "\n",
        "    if index > 0:\n",
        "        #check if more cycles exits for same patient if so then add i to change filename\n",
        "        if data.iloc[index-1]['filename']==filename:\n",
        "            i+=1\n",
        "        else:\n",
        "            i=0\n",
        "    filename= filename + '_' + str(i) + '.wav'\n",
        "\n",
        "    save_path='processed_audio_files/' + filename\n",
        "    c+=1\n",
        "\n",
        "    audioArr,sampleRate=lb.load(audio_file_loc)\n",
        "    pureSample=getPureSample(audioArr,start,end,sampleRate)\n",
        "\n",
        "    #pad audio if pureSample len < max_len\n",
        "    reqLen=6*sampleRate\n",
        "    padded_data = lb.util.pad_center(pureSample, reqLen)\n",
        "\n",
        "    sf.write(file=save_path,data=padded_data,samplerate=sampleRate)\n",
        "print('Total Files Processed: ',c)"
      ],
      "metadata": {
        "execution": {
          "iopub.status.busy": "2024-07-02T16:30:37.308858Z",
          "iopub.execute_input": "2024-07-02T16:30:37.309337Z"
        },
        "trusted": true,
        "id": "r5hRYXjKWMgy"
      },
      "execution_count": null,
      "outputs": []
    }
  ]
}