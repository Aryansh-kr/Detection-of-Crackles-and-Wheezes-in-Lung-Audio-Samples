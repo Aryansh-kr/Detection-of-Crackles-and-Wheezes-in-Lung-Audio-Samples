{
  "metadata": {
    "kernelspec": {
      "language": "python",
      "display_name": "Python 3",
      "name": "python3"
    },
    "language_info": {
      "name": "python",
      "version": "3.7.6",
      "mimetype": "text/x-python",
      "codemirror_mode": {
        "name": "ipython",
        "version": 3
      },
      "pygments_lexer": "ipython3",
      "nbconvert_exporter": "python",
      "file_extension": ".py"
    },
    "kaggle": {
      "accelerator": "none",
      "dataSources": [
        {
          "sourceId": 267422,
          "sourceType": "datasetVersion",
          "datasetId": 110374
        },
        {
          "sourceId": 43294013,
          "sourceType": "kernelVersion"
        }
      ],
      "dockerImageVersionId": 30008,
      "isInternetEnabled": true,
      "language": "python",
      "sourceType": "notebook",
      "isGpuEnabled": false
    },
    "colab": {
      "provenance": []
    }
  },
  "nbformat_minor": 0,
  "nbformat": 4,
  "cells": [
    {
      "cell_type": "code",
      "source": [
        "import numpy as np # linear algebra\n",
        "import pandas as pd # data processing, CSV file I/O (e.g. pd.read_csv)\n",
        "import matplotlib.pyplot as plt\n",
        "import seaborn as sns\n",
        "import tensorflow as tf\n",
        "from tensorflow import keras\n",
        "import librosa as lb\n",
        "import os"
      ],
      "metadata": {
        "_uuid": "8f2839f25d086af736a60e9eeb907d3b93b6e0e5",
        "_cell_guid": "b1076dfc-b9ad-4769-8c92-a6c4dae69d19",
        "execution": {
          "iopub.status.busy": "2024-07-02T16:26:34.799147Z",
          "iopub.execute_input": "2024-07-02T16:26:34.799599Z",
          "iopub.status.idle": "2024-07-02T16:26:44.095584Z",
          "shell.execute_reply.started": "2024-07-02T16:26:34.799561Z",
          "shell.execute_reply": "2024-07-02T16:26:44.094323Z"
        },
        "trusted": true,
        "id": "pcg4kbTIRn86"
      },
      "execution_count": null,
      "outputs": []
    },
    {
      "cell_type": "markdown",
      "source": [
        "# Handeling Class Imbalance"
      ],
      "metadata": {
        "id": "2_3BjdTaRn9A"
      }
    },
    {
      "cell_type": "code",
      "source": [
        "diagnosis=pd.read_csv('/kaggle/input/respiratory-sound-database/respiratory_sound_database/Respiratory_Sound_Database/patient_diagnosis.csv',names=['pid','disease'])\n",
        "diagnosis.head()"
      ],
      "metadata": {
        "_uuid": "d629ff2d2480ee46fbb7e2d37f6b5fab8052498a",
        "_cell_guid": "79c7e3d0-c299-4dcb-8224-4455121ee9b0",
        "execution": {
          "iopub.status.busy": "2024-07-02T16:26:44.098218Z",
          "iopub.execute_input": "2024-07-02T16:26:44.098628Z",
          "iopub.status.idle": "2024-07-02T16:26:44.139428Z",
          "shell.execute_reply.started": "2024-07-02T16:26:44.098585Z",
          "shell.execute_reply": "2024-07-02T16:26:44.138387Z"
        },
        "trusted": true,
        "id": "IqVzUAJGRn9C",
        "outputId": "52065843-693b-4e22-ac62-4563a9057f2f"
      },
      "execution_count": null,
      "outputs": [
        {
          "execution_count": 2,
          "output_type": "execute_result",
          "data": {
            "text/plain": "   pid  disease\n0  101     URTI\n1  102  Healthy\n2  103   Asthma\n3  104     COPD\n4  105     URTI",
            "text/html": "<div>\n<style scoped>\n    .dataframe tbody tr th:only-of-type {\n        vertical-align: middle;\n    }\n\n    .dataframe tbody tr th {\n        vertical-align: top;\n    }\n\n    .dataframe thead th {\n        text-align: right;\n    }\n</style>\n<table border=\"1\" class=\"dataframe\">\n  <thead>\n    <tr style=\"text-align: right;\">\n      <th></th>\n      <th>pid</th>\n      <th>disease</th>\n    </tr>\n  </thead>\n  <tbody>\n    <tr>\n      <th>0</th>\n      <td>101</td>\n      <td>URTI</td>\n    </tr>\n    <tr>\n      <th>1</th>\n      <td>102</td>\n      <td>Healthy</td>\n    </tr>\n    <tr>\n      <th>2</th>\n      <td>103</td>\n      <td>Asthma</td>\n    </tr>\n    <tr>\n      <th>3</th>\n      <td>104</td>\n      <td>COPD</td>\n    </tr>\n    <tr>\n      <th>4</th>\n      <td>105</td>\n      <td>URTI</td>\n    </tr>\n  </tbody>\n</table>\n</div>"
          },
          "metadata": {}
        }
      ]
    },
    {
      "cell_type": "markdown",
      "source": [
        "* In the following plot we can see that classes are **imbalanced** so we must split them into train and validation set via stratify"
      ],
      "metadata": {
        "id": "kmlAAg6mRn9D"
      }
    },
    {
      "cell_type": "code",
      "source": [
        "sns.countplot(diagnosis.disease)\n",
        "plt.xticks(rotation=90)"
      ],
      "metadata": {
        "execution": {
          "iopub.status.busy": "2024-07-02T16:26:44.141016Z",
          "iopub.execute_input": "2024-07-02T16:26:44.141382Z",
          "iopub.status.idle": "2024-07-02T16:26:44.382546Z",
          "shell.execute_reply.started": "2024-07-02T16:26:44.141345Z",
          "shell.execute_reply": "2024-07-02T16:26:44.381501Z"
        },
        "trusted": true,
        "id": "vKIom1GrRn9E",
        "outputId": "95926837-d417-4845-8340-be7f05ca901b"
      },
      "execution_count": null,
      "outputs": [
        {
          "execution_count": 3,
          "output_type": "execute_result",
          "data": {
            "text/plain": "(array([0, 1, 2, 3, 4, 5, 6, 7]), <a list of 8 Text major ticklabel objects>)"
          },
          "metadata": {}
        },
        {
          "output_type": "display_data",
          "data": {
            "text/plain": "<Figure size 432x288 with 1 Axes>",
            "image/png": "[encoded data removed]"
          },
          "metadata": {
            "needs_background": "light"
          }
        }
      ]
    },
    {
      "cell_type": "markdown",
      "source": [
        "> We will try to extract **Id** of each processed audio file and then merge them with their respective **class label** so we can split files in to train and validation folder in **stratified manner**"
      ],
      "metadata": {
        "id": "9uSTG1tyRn9E"
      }
    },
    {
      "cell_type": "code",
      "source": [
        "import os\n",
        "def extractId(filename):\n",
        "    return filename.split('_')[0]"
      ],
      "metadata": {
        "execution": {
          "iopub.status.busy": "2024-07-02T16:26:44.384071Z",
          "iopub.execute_input": "2024-07-02T16:26:44.384471Z",
          "iopub.status.idle": "2024-07-02T16:26:44.389546Z",
          "shell.execute_reply.started": "2024-07-02T16:26:44.384434Z",
          "shell.execute_reply": "2024-07-02T16:26:44.388450Z"
        },
        "trusted": true,
        "id": "tz8l7wIMRn9F"
      },
      "execution_count": null,
      "outputs": []
    },
    {
      "cell_type": "code",
      "source": [
        "path='/kaggle/input/preprocessing-part-1/processed_audio_files/'\n",
        "length=len(os.listdir(path))\n",
        "index=range(length)\n",
        "i=0\n",
        "files_df=pd.DataFrame(index=index,columns=['pid','filename'])\n",
        "for f in os.listdir(path):\n",
        "    files_df.iloc[i]['pid']=extractId(f)\n",
        "    files_df.iloc[i]['filename']=f\n",
        "    i+=1\n",
        "files_df.head()"
      ],
      "metadata": {
        "execution": {
          "iopub.status.busy": "2024-07-02T16:26:44.393939Z",
          "iopub.execute_input": "2024-07-02T16:26:44.394496Z",
          "iopub.status.idle": "2024-07-02T16:26:46.311650Z",
          "shell.execute_reply.started": "2024-07-02T16:26:44.394446Z",
          "shell.execute_reply": "2024-07-02T16:26:46.310707Z"
        },
        "trusted": true,
        "id": "tqA9Ns0eRn9F",
        "outputId": "f66b9f2c-c8c7-4e6c-fcd0-1347a4eb0d1f"
      },
      "execution_count": null,
      "outputs": [
        {
          "execution_count": 5,
          "output_type": "execute_result",
          "data": {
            "text/plain": "   pid                      filename\n0  177  177_1b4_Ar_mc_AKGC417L_4.wav\n1  114  114_1b4_Pl_mc_AKGC417L_2.wav\n2  158  158_1p4_Tc_mc_AKGC417L_7.wav\n3  158  158_1p3_Pr_mc_AKGC417L_4.wav\n4  170  170_1b4_Pl_mc_AKGC417L_0.wav",
            "text/html": "<div>\n<style scoped>\n    .dataframe tbody tr th:only-of-type {\n        vertical-align: middle;\n    }\n\n    .dataframe tbody tr th {\n        vertical-align: top;\n    }\n\n    .dataframe thead th {\n        text-align: right;\n    }\n</style>\n<table border=\"1\" class=\"dataframe\">\n  <thead>\n    <tr style=\"text-align: right;\">\n      <th></th>\n      <th>pid</th>\n      <th>filename</th>\n    </tr>\n  </thead>\n  <tbody>\n    <tr>\n      <th>0</th>\n      <td>177</td>\n      <td>177_1b4_Ar_mc_AKGC417L_4.wav</td>\n    </tr>\n    <tr>\n      <th>1</th>\n      <td>114</td>\n      <td>114_1b4_Pl_mc_AKGC417L_2.wav</td>\n    </tr>\n    <tr>\n      <th>2</th>\n      <td>158</td>\n      <td>158_1p4_Tc_mc_AKGC417L_7.wav</td>\n    </tr>\n    <tr>\n      <th>3</th>\n      <td>158</td>\n      <td>158_1p3_Pr_mc_AKGC417L_4.wav</td>\n    </tr>\n    <tr>\n      <th>4</th>\n      <td>170</td>\n      <td>170_1b4_Pl_mc_AKGC417L_0.wav</td>\n    </tr>\n  </tbody>\n</table>\n</div>"
          },
          "metadata": {}
        }
      ]
    },
    {
      "cell_type": "code",
      "source": [
        "files_df.pid=files_df.pid.astype('int64') # both pid's must be of same dtype for them to merge"
      ],
      "metadata": {
        "execution": {
          "iopub.status.busy": "2024-07-02T16:26:46.313803Z",
          "iopub.execute_input": "2024-07-02T16:26:46.314283Z",
          "iopub.status.idle": "2024-07-02T16:26:46.322808Z",
          "shell.execute_reply.started": "2024-07-02T16:26:46.314211Z",
          "shell.execute_reply": "2024-07-02T16:26:46.321619Z"
        },
        "trusted": true,
        "id": "Nao5ImMxRn9G"
      },
      "execution_count": null,
      "outputs": []
    },
    {
      "cell_type": "code",
      "source": [
        "data=pd.merge(files_df,diagnosis,on='pid')\n",
        "data.head()"
      ],
      "metadata": {
        "execution": {
          "iopub.status.busy": "2024-07-02T16:26:46.324474Z",
          "iopub.execute_input": "2024-07-02T16:26:46.324815Z",
          "iopub.status.idle": "2024-07-02T16:26:46.357406Z",
          "shell.execute_reply.started": "2024-07-02T16:26:46.324782Z",
          "shell.execute_reply": "2024-07-02T16:26:46.356077Z"
        },
        "trusted": true,
        "id": "K8M2-IioRn9G",
        "outputId": "d1413046-3a63-4017-bb11-8702214615dc"
      },
      "execution_count": null,
      "outputs": [
        {
          "execution_count": 7,
          "output_type": "execute_result",
          "data": {
            "text/plain": "   pid                      filename disease\n0  177  177_1b4_Ar_mc_AKGC417L_4.wav    COPD\n1  177  177_1b4_Lr_mc_AKGC417L_2.wav    COPD\n2  177  177_1b4_Ar_mc_AKGC417L_1.wav    COPD\n3  177  177_2b4_Pr_mc_AKGC417L_3.wav    COPD\n4  177  177_2b4_Lr_mc_AKGC417L_0.wav    COPD",
            "text/html": "<div>\n<style scoped>\n    .dataframe tbody tr th:only-of-type {\n        vertical-align: middle;\n    }\n\n    .dataframe tbody tr th {\n        vertical-align: top;\n    }\n\n    .dataframe thead th {\n        text-align: right;\n    }\n</style>\n<table border=\"1\" class=\"dataframe\">\n  <thead>\n    <tr style=\"text-align: right;\">\n      <th></th>\n      <th>pid</th>\n      <th>filename</th>\n      <th>disease</th>\n    </tr>\n  </thead>\n  <tbody>\n    <tr>\n      <th>0</th>\n      <td>177</td>\n      <td>177_1b4_Ar_mc_AKGC417L_4.wav</td>\n      <td>COPD</td>\n    </tr>\n    <tr>\n      <th>1</th>\n      <td>177</td>\n      <td>177_1b4_Lr_mc_AKGC417L_2.wav</td>\n      <td>COPD</td>\n    </tr>\n    <tr>\n      <th>2</th>\n      <td>177</td>\n      <td>177_1b4_Ar_mc_AKGC417L_1.wav</td>\n      <td>COPD</td>\n    </tr>\n    <tr>\n      <th>3</th>\n      <td>177</td>\n      <td>177_2b4_Pr_mc_AKGC417L_3.wav</td>\n      <td>COPD</td>\n    </tr>\n    <tr>\n      <th>4</th>\n      <td>177</td>\n      <td>177_2b4_Lr_mc_AKGC417L_0.wav</td>\n      <td>COPD</td>\n    </tr>\n  </tbody>\n</table>\n</div>"
          },
          "metadata": {}
        }
      ]
    },
    {
      "cell_type": "code",
      "source": [
        "sns.countplot(data.disease)\n",
        "plt.xticks(rotation=90)"
      ],
      "metadata": {
        "execution": {
          "iopub.status.busy": "2024-07-02T16:26:46.359013Z",
          "iopub.execute_input": "2024-07-02T16:26:46.359534Z",
          "iopub.status.idle": "2024-07-02T16:26:46.552492Z",
          "shell.execute_reply.started": "2024-07-02T16:26:46.359476Z",
          "shell.execute_reply": "2024-07-02T16:26:46.551318Z"
        },
        "trusted": true,
        "id": "H6x41RDlRn9G",
        "outputId": "6e009499-5132-43da-8317-25134aaea849"
      },
      "execution_count": null,
      "outputs": [
        {
          "execution_count": 8,
          "output_type": "execute_result",
          "data": {
            "text/plain": "(array([0, 1, 2, 3, 4, 5, 6, 7]), <a list of 8 Text major ticklabel objects>)"
          },
          "metadata": {}
        },
        {
          "output_type": "display_data",
          "data": {
            "text/plain": "<Figure size 432x288 with 1 Axes>",
            "image/png": "[encoded data removed]"
          },
          "metadata": {
            "needs_background": "light"
          }
        }
      ]
    },
    {
      "cell_type": "markdown",
      "source": [
        "> We can see that classes are very **skewed**"
      ],
      "metadata": {
        "id": "Sp8iJpR0Rn9H"
      }
    },
    {
      "cell_type": "code",
      "source": [
        "from sklearn.model_selection import train_test_split\n",
        "Xtrain,Xval,ytrain,yval=train_test_split(data,data.disease,stratify=data.disease,random_state=42,test_size=0.25)"
      ],
      "metadata": {
        "execution": {
          "iopub.status.busy": "2024-07-02T16:26:46.554147Z",
          "iopub.execute_input": "2024-07-02T16:26:46.554660Z",
          "iopub.status.idle": "2024-07-02T16:26:46.581516Z",
          "shell.execute_reply.started": "2024-07-02T16:26:46.554605Z",
          "shell.execute_reply": "2024-07-02T16:26:46.580397Z"
        },
        "trusted": true,
        "id": "1enq7gaBRn9H"
      },
      "execution_count": null,
      "outputs": []
    },
    {
      "cell_type": "markdown",
      "source": [
        "* Above i used the **stratify** arg of **train_test_split** and set it to disease to stratify data based on **class labels**"
      ],
      "metadata": {
        "id": "uV1OU6S9Rn9H"
      }
    },
    {
      "cell_type": "code",
      "source": [
        "Xtrain.disease.value_counts()/Xtrain.shape[0]"
      ],
      "metadata": {
        "execution": {
          "iopub.status.busy": "2024-07-02T16:26:46.583228Z",
          "iopub.execute_input": "2024-07-02T16:26:46.583727Z",
          "iopub.status.idle": "2024-07-02T16:26:46.613456Z",
          "shell.execute_reply.started": "2024-07-02T16:26:46.583676Z",
          "shell.execute_reply": "2024-07-02T16:26:46.612189Z"
        },
        "trusted": true,
        "id": "MWbr5JTxRn9I",
        "outputId": "9fa9c4ca-80a4-45fb-d306-4b6be260a18d"
      },
      "execution_count": null,
      "outputs": [
        {
          "execution_count": 10,
          "output_type": "execute_result",
          "data": {
            "text/plain": "COPD              0.832979\nHealthy           0.046588\nPneumonia         0.041369\nURTI              0.035183\nBronchiolitis     0.023197\nBronchiectasis    0.015078\nLRTI              0.004639\nAsthma            0.000967\nName: disease, dtype: float64"
          },
          "metadata": {}
        }
      ]
    },
    {
      "cell_type": "code",
      "source": [
        "Xval.disease.value_counts()/Xval.shape[0]"
      ],
      "metadata": {
        "execution": {
          "iopub.status.busy": "2024-07-02T16:26:46.615107Z",
          "iopub.execute_input": "2024-07-02T16:26:46.615593Z",
          "iopub.status.idle": "2024-07-02T16:26:46.627273Z",
          "shell.execute_reply.started": "2024-07-02T16:26:46.615543Z",
          "shell.execute_reply": "2024-07-02T16:26:46.626310Z"
        },
        "trusted": true,
        "id": "6nbEUvUlRn9I",
        "outputId": "2ca2f5bb-b7cf-46b3-84a1-ff8f12f495b2"
      },
      "execution_count": null,
      "outputs": [
        {
          "execution_count": 11,
          "output_type": "execute_result",
          "data": {
            "text/plain": "COPD              0.833043\nHealthy           0.046957\nPneumonia         0.041159\nURTI              0.035362\nBronchiolitis     0.023188\nBronchiectasis    0.015072\nLRTI              0.004638\nAsthma            0.000580\nName: disease, dtype: float64"
          },
          "metadata": {}
        }
      ]
    },
    {
      "cell_type": "markdown",
      "source": [
        "> % of class labels in same in both train and val as we can see above\n",
        "\n",
        "* We did this because this will help our model to **learn and validate classes** , it will not be like we are training only on COPD disease and there is no COPD in our validation"
      ],
      "metadata": {
        "id": "BnoYIF3zRn9J"
      }
    },
    {
      "cell_type": "markdown",
      "source": [
        "# Visualizing MFCCS"
      ],
      "metadata": {
        "id": "y1DhshD_Rn9J"
      }
    },
    {
      "cell_type": "markdown",
      "source": [
        "> I have used one file as an example here."
      ],
      "metadata": {
        "id": "A9wKrkpjRn9J"
      }
    },
    {
      "cell_type": "code",
      "source": [
        "path='../input/preprocessing-part-1/processed_audio_files/'\n",
        "\n",
        "import librosa.display\n",
        "file=path + Xtrain.iloc[193].filename\n",
        "sound,sample_rate=lb.load(file)\n",
        "mfccs = lb.feature.mfcc(y=sound, sr=sample_rate, n_mfcc=40)\n",
        "fig, ax = plt.subplots()\n",
        "img = librosa.display.specshow(mfccs, x_axis='time', ax=ax)\n",
        "fig.colorbar(img, ax=ax)\n",
        "ax.set(title='MFCC')"
      ],
      "metadata": {
        "execution": {
          "iopub.status.busy": "2024-07-02T16:26:46.628811Z",
          "iopub.execute_input": "2024-07-02T16:26:46.629185Z",
          "iopub.status.idle": "2024-07-02T16:26:46.910059Z",
          "shell.execute_reply.started": "2024-07-02T16:26:46.629150Z",
          "shell.execute_reply": "2024-07-02T16:26:46.908855Z"
        },
        "trusted": true,
        "id": "dVZ5dSLbRn9J",
        "outputId": "a02b1c2e-331a-4c52-9736-10b8bc0b11c7"
      },
      "execution_count": null,
      "outputs": [
        {
          "execution_count": 12,
          "output_type": "execute_result",
          "data": {
            "text/plain": "[Text(0.5, 1.0, 'MFCC')]"
          },
          "metadata": {}
        },
        {
          "output_type": "display_data",
          "data": {
            "text/plain": "<Figure size 432x288 with 2 Axes>",
            "image/png": "[encoded data removed]"
          },
          "metadata": {
            "needs_background": "light"
          }
        }
      ]
    },
    {
      "cell_type": "markdown",
      "source": [
        "* Here I am going to output **train & test datasets** so that i can use the **filenames** in then in another notebook where i will try other **feature extraction** methods inclusive of MFCC's and adopt the one or many based on **performance**."
      ],
      "metadata": {
        "id": "__m4mawERn9K"
      }
    },
    {
      "cell_type": "code",
      "source": [
        "Xtrain.to_csv('train.csv')\n",
        "Xval.to_csv('val.csv')"
      ],
      "metadata": {
        "execution": {
          "iopub.status.busy": "2024-07-02T16:27:27.280605Z",
          "iopub.execute_input": "2024-07-02T16:27:27.281105Z",
          "iopub.status.idle": "2024-07-02T16:27:27.323215Z",
          "shell.execute_reply.started": "2024-07-02T16:27:27.281059Z",
          "shell.execute_reply": "2024-07-02T16:27:27.322009Z"
        },
        "trusted": true,
        "id": "z_jkZClWRn9K"
      },
      "execution_count": null,
      "outputs": []
    },
    {
      "cell_type": "code",
      "source": [],
      "metadata": {
        "id": "NxUH7bJuRn9K"
      },
      "execution_count": null,
      "outputs": []
    }
  ]
}